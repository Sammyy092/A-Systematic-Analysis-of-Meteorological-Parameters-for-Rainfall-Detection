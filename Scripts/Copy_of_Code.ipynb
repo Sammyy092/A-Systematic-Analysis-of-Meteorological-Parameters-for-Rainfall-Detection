{
  "nbformat": 4,
  "nbformat_minor": 0,
  "metadata": {
    "colab": {
      "name": "Copy of Code.ipynb",
      "provenance": []
    },
    "kernelspec": {
      "name": "python3",
      "display_name": "Python 3"
    },
    "language_info": {
      "name": "python"
    }
  },
  "cells": [
    {
      "cell_type": "code",
      "metadata": {
        "id": "kmIl4ZZjygWN"
      },
      "source": [
        "# Impoting all the necessary libraries\n",
        "import pandas as pd  \n",
        "import numpy as np \n",
        "import matplotlib.pyplot as plt\n",
        "import seaborn as sn\n",
        "from sklearn.linear_model import LassoCV"
      ],
      "execution_count": null,
      "outputs": []
    },
    {
      "cell_type": "markdown",
      "metadata": {
        "id": "wtMP84geyqb5"
      },
      "source": [
        "**Data Pre-Processing Steps**"
      ]
    },
    {
      "cell_type": "code",
      "metadata": {
        "id": "ZEVVfAx5thvS"
      },
      "source": [
        "dataset= pd.read_csv('/content/2510364_USA.csv')"
      ],
      "execution_count": null,
      "outputs": []
    },
    {
      "cell_type": "code",
      "metadata": {
        "id": "C5Twv5RdtxLn"
      },
      "source": [
        "dataset.drop('PGTM', inplace=True, axis=1)"
      ],
      "execution_count": null,
      "outputs": []
    },
    {
      "cell_type": "code",
      "metadata": {
        "id": "tVp-l57lt5lX"
      },
      "source": [
        "dataset.dropna(inplace=True)"
      ],
      "execution_count": null,
      "outputs": []
    },
    {
      "cell_type": "code",
      "metadata": {
        "colab": {
          "base_uri": "https://localhost:8080/"
        },
        "id": "irVIRGVNt7qn",
        "outputId": "2f0cc662-1a9e-4366-dfea-d90a00df6fe2"
      },
      "source": [
        "dataset.isnull().sum()"
      ],
      "execution_count": null,
      "outputs": [
        {
          "output_type": "execute_result",
          "data": {
            "text/plain": [
              "TAVG    0\n",
              "TMAX    0\n",
              "TMIN    0\n",
              "AWND    0\n",
              "WDF2    0\n",
              "WDF5    0\n",
              "WSF2    0\n",
              "WSF5    0\n",
              "PRCP    0\n",
              "dtype: int64"
            ]
          },
          "metadata": {
            "tags": []
          },
          "execution_count": 5
        }
      ]
    },
    {
      "cell_type": "code",
      "metadata": {
        "colab": {
          "base_uri": "https://localhost:8080/"
        },
        "id": "VIccoyCyuCZf",
        "outputId": "f533653e-69fa-4986-9055-9b132b110d6c"
      },
      "source": [
        "dataset.shape"
      ],
      "execution_count": null,
      "outputs": [
        {
          "output_type": "execute_result",
          "data": {
            "text/plain": [
              "(2185, 9)"
            ]
          },
          "metadata": {
            "tags": []
          },
          "execution_count": 6
        }
      ]
    },
    {
      "cell_type": "code",
      "metadata": {
        "id": "LsHWbBBRuE03"
      },
      "source": [
        "rain= dataset.loc[(dataset['PRCP'] > 0)]\n",
        "no_rain= dataset.loc[(dataset['PRCP'] == 0)]"
      ],
      "execution_count": null,
      "outputs": []
    },
    {
      "cell_type": "code",
      "metadata": {
        "colab": {
          "base_uri": "https://localhost:8080/"
        },
        "id": "aYOQPNnW0duh",
        "outputId": "56065270-7675-4a19-e2b0-ff43e7b9b091"
      },
      "source": [
        "rain['PRCP'] =rain['PRCP']/rain['PRCP']"
      ],
      "execution_count": null,
      "outputs": [
        {
          "output_type": "stream",
          "text": [
            "/usr/local/lib/python3.7/dist-packages/ipykernel_launcher.py:1: SettingWithCopyWarning: \n",
            "A value is trying to be set on a copy of a slice from a DataFrame.\n",
            "Try using .loc[row_indexer,col_indexer] = value instead\n",
            "\n",
            "See the caveats in the documentation: https://pandas.pydata.org/pandas-docs/stable/user_guide/indexing.html#returning-a-view-versus-a-copy\n",
            "  \"\"\"Entry point for launching an IPython kernel.\n"
          ],
          "name": "stderr"
        }
      ]
    },
    {
      "cell_type": "code",
      "metadata": {
        "id": "HFPoyGm1uNrQ"
      },
      "source": [
        "concat= [rain, no_rain]\n",
        "new_dataset = pd.concat(concat)\n",
        "dataset=new_dataset.sample(frac=1).reset_index(drop=True)\n",
        "dataset['PRCP'] = dataset['PRCP'].apply(np.int64)"
      ],
      "execution_count": null,
      "outputs": []
    },
    {
      "cell_type": "code",
      "metadata": {
        "colab": {
          "base_uri": "https://localhost:8080/",
          "height": 347
        },
        "id": "DoFOH918uwD8",
        "outputId": "bb957228-d7b2-4cc1-b480-11d801ec6732"
      },
      "source": [
        "dataset.head(10)"
      ],
      "execution_count": null,
      "outputs": [
        {
          "output_type": "execute_result",
          "data": {
            "text/html": [
              "<div>\n",
              "<style scoped>\n",
              "    .dataframe tbody tr th:only-of-type {\n",
              "        vertical-align: middle;\n",
              "    }\n",
              "\n",
              "    .dataframe tbody tr th {\n",
              "        vertical-align: top;\n",
              "    }\n",
              "\n",
              "    .dataframe thead th {\n",
              "        text-align: right;\n",
              "    }\n",
              "</style>\n",
              "<table border=\"1\" class=\"dataframe\">\n",
              "  <thead>\n",
              "    <tr style=\"text-align: right;\">\n",
              "      <th></th>\n",
              "      <th>TAVG</th>\n",
              "      <th>TMAX</th>\n",
              "      <th>TMIN</th>\n",
              "      <th>AWND</th>\n",
              "      <th>WDF2</th>\n",
              "      <th>WDF5</th>\n",
              "      <th>WSF2</th>\n",
              "      <th>WSF5</th>\n",
              "      <th>PRCP</th>\n",
              "    </tr>\n",
              "  </thead>\n",
              "  <tbody>\n",
              "    <tr>\n",
              "      <th>0</th>\n",
              "      <td>32</td>\n",
              "      <td>37</td>\n",
              "      <td>27</td>\n",
              "      <td>6.71</td>\n",
              "      <td>30</td>\n",
              "      <td>130.0</td>\n",
              "      <td>15.0</td>\n",
              "      <td>19.0</td>\n",
              "      <td>1</td>\n",
              "    </tr>\n",
              "    <tr>\n",
              "      <th>1</th>\n",
              "      <td>37</td>\n",
              "      <td>41</td>\n",
              "      <td>30</td>\n",
              "      <td>8.50</td>\n",
              "      <td>360</td>\n",
              "      <td>360.0</td>\n",
              "      <td>18.1</td>\n",
              "      <td>21.9</td>\n",
              "      <td>1</td>\n",
              "    </tr>\n",
              "    <tr>\n",
              "      <th>2</th>\n",
              "      <td>26</td>\n",
              "      <td>40</td>\n",
              "      <td>9</td>\n",
              "      <td>4.70</td>\n",
              "      <td>360</td>\n",
              "      <td>360.0</td>\n",
              "      <td>18.1</td>\n",
              "      <td>25.1</td>\n",
              "      <td>0</td>\n",
              "    </tr>\n",
              "    <tr>\n",
              "      <th>3</th>\n",
              "      <td>27</td>\n",
              "      <td>28</td>\n",
              "      <td>25</td>\n",
              "      <td>2.91</td>\n",
              "      <td>340</td>\n",
              "      <td>350.0</td>\n",
              "      <td>8.9</td>\n",
              "      <td>13.0</td>\n",
              "      <td>0</td>\n",
              "    </tr>\n",
              "    <tr>\n",
              "      <th>4</th>\n",
              "      <td>68</td>\n",
              "      <td>84</td>\n",
              "      <td>52</td>\n",
              "      <td>5.37</td>\n",
              "      <td>270</td>\n",
              "      <td>330.0</td>\n",
              "      <td>16.1</td>\n",
              "      <td>25.1</td>\n",
              "      <td>0</td>\n",
              "    </tr>\n",
              "    <tr>\n",
              "      <th>5</th>\n",
              "      <td>17</td>\n",
              "      <td>23</td>\n",
              "      <td>6</td>\n",
              "      <td>6.04</td>\n",
              "      <td>290</td>\n",
              "      <td>290.0</td>\n",
              "      <td>15.0</td>\n",
              "      <td>27.1</td>\n",
              "      <td>1</td>\n",
              "    </tr>\n",
              "    <tr>\n",
              "      <th>6</th>\n",
              "      <td>31</td>\n",
              "      <td>33</td>\n",
              "      <td>29</td>\n",
              "      <td>5.82</td>\n",
              "      <td>70</td>\n",
              "      <td>70.0</td>\n",
              "      <td>14.1</td>\n",
              "      <td>17.0</td>\n",
              "      <td>1</td>\n",
              "    </tr>\n",
              "    <tr>\n",
              "      <th>7</th>\n",
              "      <td>25</td>\n",
              "      <td>31</td>\n",
              "      <td>20</td>\n",
              "      <td>12.30</td>\n",
              "      <td>330</td>\n",
              "      <td>340.0</td>\n",
              "      <td>28.0</td>\n",
              "      <td>38.9</td>\n",
              "      <td>0</td>\n",
              "    </tr>\n",
              "    <tr>\n",
              "      <th>8</th>\n",
              "      <td>54</td>\n",
              "      <td>65</td>\n",
              "      <td>40</td>\n",
              "      <td>7.38</td>\n",
              "      <td>350</td>\n",
              "      <td>20.0</td>\n",
              "      <td>14.1</td>\n",
              "      <td>21.0</td>\n",
              "      <td>0</td>\n",
              "    </tr>\n",
              "    <tr>\n",
              "      <th>9</th>\n",
              "      <td>58</td>\n",
              "      <td>71</td>\n",
              "      <td>47</td>\n",
              "      <td>4.25</td>\n",
              "      <td>140</td>\n",
              "      <td>130.0</td>\n",
              "      <td>16.1</td>\n",
              "      <td>19.9</td>\n",
              "      <td>1</td>\n",
              "    </tr>\n",
              "  </tbody>\n",
              "</table>\n",
              "</div>"
            ],
            "text/plain": [
              "   TAVG  TMAX  TMIN   AWND  WDF2   WDF5  WSF2  WSF5  PRCP\n",
              "0    32    37    27   6.71    30  130.0  15.0  19.0     1\n",
              "1    37    41    30   8.50   360  360.0  18.1  21.9     1\n",
              "2    26    40     9   4.70   360  360.0  18.1  25.1     0\n",
              "3    27    28    25   2.91   340  350.0   8.9  13.0     0\n",
              "4    68    84    52   5.37   270  330.0  16.1  25.1     0\n",
              "5    17    23     6   6.04   290  290.0  15.0  27.1     1\n",
              "6    31    33    29   5.82    70   70.0  14.1  17.0     1\n",
              "7    25    31    20  12.30   330  340.0  28.0  38.9     0\n",
              "8    54    65    40   7.38   350   20.0  14.1  21.0     0\n",
              "9    58    71    47   4.25   140  130.0  16.1  19.9     1"
            ]
          },
          "metadata": {
            "tags": []
          },
          "execution_count": 10
        }
      ]
    },
    {
      "cell_type": "code",
      "metadata": {
        "id": "mzUT8L7dyqSc"
      },
      "source": [
        "dataset= dataset[['TAVG', 'TMAX', 'TMIN','AWND', 'WDF2', 'WDF5','WSF2', 'WSF5', 'PRCP']]"
      ],
      "execution_count": null,
      "outputs": []
    },
    {
      "cell_type": "code",
      "metadata": {
        "colab": {
          "base_uri": "https://localhost:8080/",
          "height": 351
        },
        "id": "ZXDoGPmhyhEb",
        "outputId": "f288faa6-1775-4d3c-e6c5-43b3e9aa2b51"
      },
      "source": [
        "plt.figure(figsize=(9, 5.5))\n",
        "# define the mask to set the values in the upper triangle to True\n",
        "mask = np.triu(np.ones_like(dataset.corr(), dtype=np.bool))\n",
        "heatmap = sn.heatmap(dataset.corr(), mask=mask, vmin=0, vmax=1, annot=True, cmap='Blues')"
      ],
      "execution_count": null,
      "outputs": [
        {
          "output_type": "display_data",
          "data": {
            "image/png": "[encoded data removed]",
            "text/plain": [
              "<Figure size 648x396 with 2 Axes>"
            ]
          },
          "metadata": {
            "tags": [],
            "needs_background": "light"
          }
        }
      ]
    },
    {
      "cell_type": "code",
      "metadata": {
        "id": "5Up-pLqIyvz6"
      },
      "source": [
        "features= dataset[['TAVG', 'TMAX', 'TMIN', 'AWND', 'WDF2', 'WDF5','WSF2', 'WSF5']]\n",
        "labels= dataset[['PRCP']]"
      ],
      "execution_count": null,
      "outputs": []
    },
    {
      "cell_type": "code",
      "metadata": {
        "colab": {
          "base_uri": "https://localhost:8080/"
        },
        "id": "Jz-1yN1Ky259",
        "outputId": "689f15de-4fe4-4de8-c814-acbc31cebea7"
      },
      "source": [
        "reg = LassoCV()\n",
        "reg.fit(features, labels.values.ravel())\n",
        "print(\"Best alpha using built-in LassoCV: %f\" % reg.alpha_)\n",
        "print(\"Best score using built-in LassoCV: %f\" %reg.score(features,labels.values.ravel()))\n",
        "coef = pd.Series(reg.coef_, index = features.columns)"
      ],
      "execution_count": null,
      "outputs": [
        {
          "output_type": "stream",
          "text": [
            "Best alpha using built-in LassoCV: 0.003762\n",
            "Best score using built-in LassoCV: 0.181906\n"
          ],
          "name": "stdout"
        }
      ]
    },
    {
      "cell_type": "code",
      "metadata": {
        "colab": {
          "base_uri": "https://localhost:8080/"
        },
        "id": "Ass_1d91zE4y",
        "outputId": "514a606b-754c-4647-aa72-d3a0e8d86ad9"
      },
      "source": [
        "print(\"Lasso picked \" + str(sum(coef != 0)) + \" variables and eliminated the other \" +  str(sum(coef == 0)) + \" variables\")"
      ],
      "execution_count": null,
      "outputs": [
        {
          "output_type": "stream",
          "text": [
            "Lasso picked 8 variables and eliminated the other 0 variables\n"
          ],
          "name": "stdout"
        }
      ]
    },
    {
      "cell_type": "code",
      "metadata": {
        "colab": {
          "base_uri": "https://localhost:8080/",
          "height": 413
        },
        "id": "zWAjLGEezJAJ",
        "outputId": "e8dd9812-2a1f-4355-ed28-2420d24aa692"
      },
      "source": [
        "imp_coef = coef.sort_values()\n",
        "import matplotlib\n",
        "matplotlib.rcParams['figure.figsize'] = (7.5, 6.0)\n",
        "imp_coef.plot(kind = \"bar\")"
      ],
      "execution_count": null,
      "outputs": [
        {
          "output_type": "execute_result",
          "data": {
            "text/plain": [
              "<matplotlib.axes._subplots.AxesSubplot at 0x7fbc80a954d0>"
            ]
          },
          "metadata": {
            "tags": []
          },
          "execution_count": 15
        },
        {
          "output_type": "display_data",
          "data": {
            "image/png": "[encoded data removed]",
            "text/plain": [
              "<Figure size 540x432 with 1 Axes>"
            ]
          },
          "metadata": {
            "tags": [],
            "needs_background": "light"
          }
        }
      ]
    },
    {
      "cell_type": "code",
      "metadata": {
        "id": "8sBf6yvBzLJZ"
      },
      "source": [
        ""
      ],
      "execution_count": null,
      "outputs": []
    }
  ]
}